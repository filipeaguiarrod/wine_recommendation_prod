{
 "cells": [
  {
   "cell_type": "code",
   "execution_count": 1,
   "id": "0bdbfa1c-0a71-4563-bd47-8812106a8d42",
   "metadata": {
    "execution": {
     "iopub.execute_input": "2023-01-30T23:57:12.664033Z",
     "iopub.status.busy": "2023-01-30T23:57:12.663033Z",
     "iopub.status.idle": "2023-01-30T23:57:12.983020Z",
     "shell.execute_reply": "2023-01-30T23:57:12.983020Z",
     "shell.execute_reply.started": "2023-01-30T23:57:12.664033Z"
    },
    "tags": []
   },
   "outputs": [],
   "source": [
    "import pandas as pd\n",
    "import itertools"
   ]
  },
  {
   "cell_type": "code",
   "execution_count": 2,
   "id": "2138f7f3-ff85-4235-9976-0b43b411d1d0",
   "metadata": {
    "execution": {
     "iopub.execute_input": "2023-01-30T23:57:12.985021Z",
     "iopub.status.busy": "2023-01-30T23:57:12.984020Z",
     "iopub.status.idle": "2023-01-30T23:57:13.046034Z",
     "shell.execute_reply": "2023-01-30T23:57:13.046034Z",
     "shell.execute_reply.started": "2023-01-30T23:57:12.985021Z"
    },
    "tags": []
   },
   "outputs": [],
   "source": [
    "evino = pd.read_csv('evino.csv')\n",
    "wine = pd.read_csv('wine.csv')\n",
    "pao  = pd.read_csv('pao_acucar_adega.csv')"
   ]
  },
  {
   "cell_type": "code",
   "execution_count": 3,
   "id": "de11334d-a964-4fd7-a4e2-afd8e6a6d4c0",
   "metadata": {
    "execution": {
     "iopub.execute_input": "2023-01-30T23:57:13.047034Z",
     "iopub.status.busy": "2023-01-30T23:57:13.047034Z",
     "iopub.status.idle": "2023-01-30T23:57:13.063038Z",
     "shell.execute_reply": "2023-01-30T23:57:13.062038Z",
     "shell.execute_reply.started": "2023-01-30T23:57:13.047034Z"
    },
    "tags": []
   },
   "outputs": [
    {
     "data": {
      "text/plain": [
       "Index(['amadurecimento', 'classificação', 'comentário_do_sommelier',\n",
       "       'datasheet', 'gustativo', 'harmonização', 'images', 'link', 'olfativo',\n",
       "       'país', 'potencial_de_guarda', 'preço', 'região', 'rolha', 'safra',\n",
       "       'temperatura_de_serviço', 'teor_alcoólico', 'uva', 'vinho', 'vinícola',\n",
       "       'visual', 'volume'],\n",
       "      dtype='object')"
      ]
     },
     "execution_count": 3,
     "metadata": {},
     "output_type": "execute_result"
    }
   ],
   "source": [
    "evino.columns.sort_values()"
   ]
  },
  {
   "cell_type": "code",
   "execution_count": 4,
   "id": "5b1d644d-2d7b-417c-971b-5635d0ead77b",
   "metadata": {
    "execution": {
     "iopub.execute_input": "2023-01-30T23:57:13.064038Z",
     "iopub.status.busy": "2023-01-30T23:57:13.063038Z",
     "iopub.status.idle": "2023-01-30T23:57:13.078042Z",
     "shell.execute_reply": "2023-01-30T23:57:13.078042Z",
     "shell.execute_reply.started": "2023-01-30T23:57:13.064038Z"
    },
    "tags": []
   },
   "outputs": [
    {
     "data": {
      "text/plain": [
       "Index(['amadurecimento', 'classificação', 'comentário_do_sommelier',\n",
       "       'gustativo', 'harmonização', 'link', 'olfativo', 'país',\n",
       "       'potencial_de_guarda', 'preço', 'região', 'safra',\n",
       "       'temperatura_de_serviço', 'teor_alcoólico', 'uva', 'vinho', 'vinícola',\n",
       "       'visual'],\n",
       "      dtype='object')"
      ]
     },
     "execution_count": 4,
     "metadata": {},
     "output_type": "execute_result"
    }
   ],
   "source": [
    "wine.columns.sort_values()"
   ]
  },
  {
   "cell_type": "code",
   "execution_count": 5,
   "id": "5f79da1e-8717-4f1a-b0fd-48d36b6efb3f",
   "metadata": {
    "execution": {
     "iopub.execute_input": "2023-01-30T23:57:13.081042Z",
     "iopub.status.busy": "2023-01-30T23:57:13.081042Z",
     "iopub.status.idle": "2023-01-30T23:57:13.095045Z",
     "shell.execute_reply": "2023-01-30T23:57:13.094045Z",
     "shell.execute_reply.started": "2023-01-30T23:57:13.081042Z"
    },
    "tags": []
   },
   "outputs": [
    {
     "data": {
      "text/plain": [
       "Index(['classificação', 'comentário_do_sommelier', 'gustativo', 'harmonização',\n",
       "       'images', 'link', 'olfativo', 'país', 'preço', 'região',\n",
       "       'temperatura_de_serviço', 'teor_alcoólico', 'uva', 'vinho', 'vinícola',\n",
       "       'visual', 'volume'],\n",
       "      dtype='object')"
      ]
     },
     "execution_count": 5,
     "metadata": {},
     "output_type": "execute_result"
    }
   ],
   "source": [
    "pao.columns.sort_values()"
   ]
  },
  {
   "cell_type": "code",
   "execution_count": 6,
   "id": "ad1eae50-2bfd-4dc7-9f86-08ed90bd9dcc",
   "metadata": {
    "execution": {
     "iopub.execute_input": "2023-01-30T23:57:13.096045Z",
     "iopub.status.busy": "2023-01-30T23:57:13.095045Z",
     "iopub.status.idle": "2023-01-30T23:57:13.111048Z",
     "shell.execute_reply": "2023-01-30T23:57:13.110048Z",
     "shell.execute_reply.started": "2023-01-30T23:57:13.096045Z"
    },
    "tags": []
   },
   "outputs": [],
   "source": [
    "def common_columns(df1, df2, df3):\n",
    "    # get the column names of each DataFrame\n",
    "    columns1 = set(df1.columns)\n",
    "    columns2 = set(df2.columns)\n",
    "    columns3 = set(df3.columns)\n",
    "    \n",
    "    # find the intersection of the column names\n",
    "    common_columns = columns1.intersection(columns2, columns3)\n",
    "    \n",
    "    return common_columns\n",
    "\n",
    "def non_common_columns(df1, df2, df3):\n",
    "    # get the column names of each DataFrame\n",
    "    columns1 = set(df1.columns)\n",
    "    columns2 = set(df2.columns)\n",
    "    columns3 = set(df3.columns)\n",
    "    \n",
    "    # find the intersection of the column names\n",
    "    common_columns = columns1.intersection(columns2, columns3)\n",
    "    non_common_columns = {}\n",
    "    \n",
    "    # Find columns in df1 that are not common\n",
    "    non_common_columns[df1.__name__] = columns1 - common_columns\n",
    "    # Find columns in df2 that are not common\n",
    "    non_common_columns[df2.__name__] = columns2 - common_columns\n",
    "    # Find columns in df3 that are not common\n",
    "    non_common_columns[df3.__name__] = columns3 - common_columns\n",
    "    \n",
    "    return non_common_columns"
   ]
  },
  {
   "cell_type": "code",
   "execution_count": 7,
   "id": "b208ea63-419c-49c3-be51-984d47e849b2",
   "metadata": {
    "execution": {
     "iopub.execute_input": "2023-01-30T23:57:13.112048Z",
     "iopub.status.busy": "2023-01-30T23:57:13.112048Z",
     "iopub.status.idle": "2023-01-30T23:57:13.127052Z",
     "shell.execute_reply": "2023-01-30T23:57:13.126052Z",
     "shell.execute_reply.started": "2023-01-30T23:57:13.112048Z"
    },
    "tags": []
   },
   "outputs": [
    {
     "data": {
      "text/plain": [
       "(464, 22)"
      ]
     },
     "execution_count": 7,
     "metadata": {},
     "output_type": "execute_result"
    }
   ],
   "source": [
    "evino.shape"
   ]
  },
  {
   "cell_type": "code",
   "execution_count": 8,
   "id": "2e6a120c-c48e-464c-89b7-d89554a8d906",
   "metadata": {
    "execution": {
     "iopub.execute_input": "2023-01-30T23:57:13.128052Z",
     "iopub.status.busy": "2023-01-30T23:57:13.127052Z",
     "iopub.status.idle": "2023-01-30T23:57:13.145056Z",
     "shell.execute_reply": "2023-01-30T23:57:13.143055Z",
     "shell.execute_reply.started": "2023-01-30T23:57:13.128052Z"
    },
    "tags": []
   },
   "outputs": [
    {
     "data": {
      "text/plain": [
       "(741, 18)"
      ]
     },
     "execution_count": 8,
     "metadata": {},
     "output_type": "execute_result"
    }
   ],
   "source": [
    "wine.shape"
   ]
  },
  {
   "cell_type": "code",
   "execution_count": 9,
   "id": "90530572-6511-4d91-84a6-6ca3d11649ab",
   "metadata": {
    "execution": {
     "iopub.execute_input": "2023-01-30T23:57:13.146056Z",
     "iopub.status.busy": "2023-01-30T23:57:13.146056Z",
     "iopub.status.idle": "2023-01-30T23:57:13.158059Z",
     "shell.execute_reply": "2023-01-30T23:57:13.157059Z",
     "shell.execute_reply.started": "2023-01-30T23:57:13.146056Z"
    },
    "tags": []
   },
   "outputs": [
    {
     "data": {
      "text/plain": [
       "(768, 17)"
      ]
     },
     "execution_count": 9,
     "metadata": {},
     "output_type": "execute_result"
    }
   ],
   "source": [
    "pao.shape"
   ]
  },
  {
   "cell_type": "code",
   "execution_count": 10,
   "id": "cc3f3ce4-2bbc-4fa6-a297-c0276dd763d3",
   "metadata": {
    "execution": {
     "iopub.execute_input": "2023-01-30T23:57:13.159059Z",
     "iopub.status.busy": "2023-01-30T23:57:13.158059Z",
     "iopub.status.idle": "2023-01-30T23:57:13.174063Z",
     "shell.execute_reply": "2023-01-30T23:57:13.173063Z",
     "shell.execute_reply.started": "2023-01-30T23:57:13.159059Z"
    },
    "tags": []
   },
   "outputs": [
    {
     "name": "stdout",
     "output_type": "stream",
     "text": [
      "--wine / evino-- {'images', 'datasheet', 'volume', 'rolha'}\n",
      "--wine / pao -- {'images', 'safra', 'volume', 'amadurecimento', 'potencial_de_guarda'}\n",
      "--evino / pao -- {'safra', 'datasheet', 'amadurecimento', 'rolha', 'potencial_de_guarda'}\n"
     ]
    }
   ],
   "source": [
    "    print('--wine / evino--', set(wine.columns) ^ set(evino.columns))\n",
    "    print('--wine / pao --', set(wine.columns) ^ set(pao.columns))\n",
    "    print('--evino / pao --', set(evino.columns) ^ set(pao.columns))"
   ]
  },
  {
   "cell_type": "code",
   "execution_count": 11,
   "id": "8b9ae1d2-5278-4747-a1b9-f3736ab9ada8",
   "metadata": {
    "execution": {
     "iopub.execute_input": "2023-01-30T23:57:13.175063Z",
     "iopub.status.busy": "2023-01-30T23:57:13.174063Z",
     "iopub.status.idle": "2023-01-30T23:57:13.205070Z",
     "shell.execute_reply": "2023-01-30T23:57:13.205070Z",
     "shell.execute_reply.started": "2023-01-30T23:57:13.175063Z"
    },
    "tags": []
   },
   "outputs": [
    {
     "data": {
      "text/plain": [
       "vinho                         0\n",
       "preço                         0\n",
       "comentário_do_sommelier       0\n",
       "uva                           5\n",
       "país                          0\n",
       "região                        0\n",
       "classificação                 0\n",
       "vinícola                      0\n",
       "safra                       923\n",
       "amadurecimento             1163\n",
       "teor_alcoólico                0\n",
       "temperatura_de_serviço        0\n",
       "potencial_de_guarda         894\n",
       "olfativo                      0\n",
       "visual                        0\n",
       "gustativo                     0\n",
       "harmonização                  0\n",
       "link                          0\n",
       "images                      741\n",
       "rolha                      1516\n",
       "volume                      741\n",
       "datasheet                  1509\n",
       "dtype: int64"
      ]
     },
     "execution_count": 11,
     "metadata": {},
     "output_type": "execute_result"
    }
   ],
   "source": [
    "pd.concat([wine,evino,pao]).isnull().sum()"
   ]
  },
  {
   "cell_type": "code",
   "execution_count": 12,
   "id": "a8dc4feb-18a2-4dbc-97b8-e17c25b7b54b",
   "metadata": {
    "execution": {
     "iopub.execute_input": "2023-01-30T23:57:13.207071Z",
     "iopub.status.busy": "2023-01-30T23:57:13.207071Z",
     "iopub.status.idle": "2023-01-30T23:57:13.221074Z",
     "shell.execute_reply": "2023-01-30T23:57:13.221074Z",
     "shell.execute_reply.started": "2023-01-30T23:57:13.207071Z"
    },
    "tags": []
   },
   "outputs": [],
   "source": [
    "super_set = pd.concat([wine,evino,pao]).drop(columns = ['safra','amadurecimento','potencial_de_guarda','images','rolha','volume','datasheet','link'])"
   ]
  },
  {
   "cell_type": "code",
   "execution_count": 13,
   "id": "eab33017-46a8-4657-8755-6d59254b6915",
   "metadata": {
    "execution": {
     "iopub.execute_input": "2023-01-30T23:57:13.222074Z",
     "iopub.status.busy": "2023-01-30T23:57:13.222074Z",
     "iopub.status.idle": "2023-01-30T23:57:13.238077Z",
     "shell.execute_reply": "2023-01-30T23:57:13.237077Z",
     "shell.execute_reply.started": "2023-01-30T23:57:13.222074Z"
    },
    "tags": []
   },
   "outputs": [],
   "source": [
    "super_set = super_set.dropna()"
   ]
  },
  {
   "cell_type": "code",
   "execution_count": 14,
   "id": "6f572f8d-b948-4696-904c-a1e0f7411ea7",
   "metadata": {
    "execution": {
     "iopub.execute_input": "2023-01-30T23:57:13.241078Z",
     "iopub.status.busy": "2023-01-30T23:57:13.240077Z",
     "iopub.status.idle": "2023-01-30T23:57:13.253081Z",
     "shell.execute_reply": "2023-01-30T23:57:13.253081Z",
     "shell.execute_reply.started": "2023-01-30T23:57:13.241078Z"
    },
    "tags": []
   },
   "outputs": [
    {
     "data": {
      "text/plain": [
       "vinho                      0\n",
       "preço                      0\n",
       "comentário_do_sommelier    0\n",
       "uva                        0\n",
       "país                       0\n",
       "região                     0\n",
       "classificação              0\n",
       "vinícola                   0\n",
       "teor_alcoólico             0\n",
       "temperatura_de_serviço     0\n",
       "olfativo                   0\n",
       "visual                     0\n",
       "gustativo                  0\n",
       "harmonização               0\n",
       "dtype: int64"
      ]
     },
     "execution_count": 14,
     "metadata": {},
     "output_type": "execute_result"
    }
   ],
   "source": [
    "super_set.isnull().sum()"
   ]
  },
  {
   "cell_type": "code",
   "execution_count": 15,
   "id": "5caa0c0f-d0d2-4808-ad40-1f021375b132",
   "metadata": {
    "execution": {
     "iopub.execute_input": "2023-01-30T23:57:13.255081Z",
     "iopub.status.busy": "2023-01-30T23:57:13.254081Z",
     "iopub.status.idle": "2023-01-30T23:57:13.270085Z",
     "shell.execute_reply": "2023-01-30T23:57:13.269084Z",
     "shell.execute_reply.started": "2023-01-30T23:57:13.255081Z"
    },
    "tags": []
   },
   "outputs": [
    {
     "data": {
      "text/plain": [
       "(1968, 14)"
      ]
     },
     "execution_count": 15,
     "metadata": {},
     "output_type": "execute_result"
    }
   ],
   "source": [
    "super_set.shape"
   ]
  },
  {
   "cell_type": "code",
   "execution_count": 17,
   "id": "0e04016f-2b82-4cd1-8564-d5751c9d60cf",
   "metadata": {
    "execution": {
     "iopub.execute_input": "2023-01-30T23:57:19.880818Z",
     "iopub.status.busy": "2023-01-30T23:57:19.880818Z",
     "iopub.status.idle": "2023-01-30T23:57:19.899824Z",
     "shell.execute_reply": "2023-01-30T23:57:19.898825Z",
     "shell.execute_reply.started": "2023-01-30T23:57:19.880818Z"
    },
    "tags": []
   },
   "outputs": [
    {
     "data": {
      "text/plain": [
       "Index(['vinho', 'preço', 'comentário_do_sommelier', 'uva', 'país', 'região',\n",
       "       'classificação', 'vinícola', 'teor_alcoólico', 'temperatura_de_serviço',\n",
       "       'olfativo', 'visual', 'gustativo', 'harmonização'],\n",
       "      dtype='object')"
      ]
     },
     "execution_count": 17,
     "metadata": {},
     "output_type": "execute_result"
    }
   ],
   "source": [
    "super_set.columns"
   ]
  },
  {
   "cell_type": "code",
   "execution_count": 103,
   "id": "ffafef19-80a2-4557-ab16-406b4fe40b23",
   "metadata": {
    "execution": {
     "iopub.execute_input": "2023-01-18T00:03:09.056825Z",
     "iopub.status.busy": "2023-01-18T00:03:09.055825Z",
     "iopub.status.idle": "2023-01-18T00:03:09.108837Z",
     "shell.execute_reply": "2023-01-18T00:03:09.107836Z",
     "shell.execute_reply.started": "2023-01-18T00:03:09.056825Z"
    },
    "tags": []
   },
   "outputs": [],
   "source": [
    "super_set.to_csv('super_wine_set.csv',index=False)"
   ]
  }
 ],
 "metadata": {
  "kernelspec": {
   "display_name": "Python 3 (ipykernel)",
   "language": "python",
   "name": "python3"
  },
  "language_info": {
   "codemirror_mode": {
    "name": "ipython",
    "version": 3
   },
   "file_extension": ".py",
   "mimetype": "text/x-python",
   "name": "python",
   "nbconvert_exporter": "python",
   "pygments_lexer": "ipython3",
   "version": "3.10.9"
  }
 },
 "nbformat": 4,
 "nbformat_minor": 5
}
