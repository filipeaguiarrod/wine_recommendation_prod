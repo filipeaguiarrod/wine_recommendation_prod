{
 "cells": [
  {
   "cell_type": "code",
   "execution_count": 1,
   "id": "8c644eb4-1265-4abb-8b3a-22a4bad6eeef",
   "metadata": {
    "execution": {
     "iopub.execute_input": "2023-01-30T23:56:18.801301Z",
     "iopub.status.busy": "2023-01-30T23:56:18.801301Z",
     "iopub.status.idle": "2023-01-30T23:56:24.954119Z",
     "shell.execute_reply": "2023-01-30T23:56:24.954119Z",
     "shell.execute_reply.started": "2023-01-30T23:56:18.801301Z"
    },
    "tags": []
   },
   "outputs": [],
   "source": [
    "import pandas as pd"
   ]
  },
  {
   "cell_type": "code",
   "execution_count": 2,
   "id": "d1983c68-4d54-4c11-aa83-bf4a4dfc04f0",
   "metadata": {
    "execution": {
     "iopub.execute_input": "2023-01-30T23:57:43.180051Z",
     "iopub.status.busy": "2023-01-30T23:57:43.180051Z",
     "iopub.status.idle": "2023-01-30T23:57:43.193053Z",
     "shell.execute_reply": "2023-01-30T23:57:43.192054Z",
     "shell.execute_reply.started": "2023-01-30T23:57:43.180051Z"
    },
    "tags": []
   },
   "outputs": [],
   "source": [
    "inputs = ['vinho', 'preço', 'comentário_do_sommelier', 'uva', 'país', 'região',\n",
    "       'classificação', 'vinícola', 'teor_alcoólico', 'temperatura_de_serviço',\n",
    "       'olfativo', 'visual', 'gustativo', 'harmonização']"
   ]
  },
  {
   "cell_type": "code",
   "execution_count": 10,
   "id": "96bfda96-cd30-4ad6-aadc-cdb56412fb52",
   "metadata": {
    "execution": {
     "iopub.execute_input": "2023-01-31T00:08:22.552655Z",
     "iopub.status.busy": "2023-01-31T00:08:22.552655Z",
     "iopub.status.idle": "2023-01-31T00:15:13.699677Z",
     "shell.execute_reply": "2023-01-31T00:15:13.698676Z",
     "shell.execute_reply.started": "2023-01-31T00:08:22.552655Z"
    },
    "tags": []
   },
   "outputs": [
    {
     "name": "stdin",
     "output_type": "stream",
     "text": [
      "Enter value for 'vinho':  Vinho Chilano Rose\n",
      "Enter value for 'preço':  24.09\n",
      "Enter value for 'comentário_do_sommelier':  Este vinho tem um corpo leve, acidez em equilíbrio e notas de frutas vermelhas que lembram morangos frescos.\n",
      "Enter value for 'uva':  Cabernet Sauvignon\n",
      "Enter value for 'país':  Chile\n",
      "Enter value for 'região':  Vale Central\n",
      "Enter value for 'classificação':  Meio Seco\n",
      "Enter value for 'vinícola':  VyF\n",
      "Enter value for 'teor_alcoólico':  12\n",
      "Enter value for 'temperatura_de_serviço':  17\n"
     ]
    },
    {
     "ename": "KeyboardInterrupt",
     "evalue": "Interrupted by user",
     "output_type": "error",
     "traceback": [
      "\u001b[1;31m---------------------------------------------------------------------------\u001b[0m",
      "\u001b[1;31mKeyboardInterrupt\u001b[0m                         Traceback (most recent call last)",
      "Cell \u001b[1;32mIn[10], line 9\u001b[0m\n\u001b[0;32m      7\u001b[0m \u001b[38;5;28;01mfor\u001b[39;00m element \u001b[38;5;129;01min\u001b[39;00m elements:\n\u001b[0;32m      8\u001b[0m     \u001b[38;5;28;01mwhile\u001b[39;00m \u001b[38;5;28;01mTrue\u001b[39;00m:\n\u001b[1;32m----> 9\u001b[0m         value \u001b[38;5;241m=\u001b[39m \u001b[38;5;28;43minput\u001b[39;49m\u001b[43m(\u001b[49m\u001b[38;5;124;43mf\u001b[39;49m\u001b[38;5;124;43m\"\u001b[39;49m\u001b[38;5;124;43mEnter value for \u001b[39;49m\u001b[38;5;124;43m'\u001b[39;49m\u001b[38;5;132;43;01m{\u001b[39;49;00m\u001b[43melement\u001b[49m\u001b[38;5;132;43;01m}\u001b[39;49;00m\u001b[38;5;124;43m'\u001b[39;49m\u001b[38;5;124;43m: \u001b[39;49m\u001b[38;5;124;43m\"\u001b[39;49m\u001b[43m)\u001b[49m\n\u001b[0;32m     10\u001b[0m         \u001b[38;5;28;01mif\u001b[39;00m value:\n\u001b[0;32m     11\u001b[0m             data[element] \u001b[38;5;241m=\u001b[39m value\n",
      "File \u001b[1;32m~\\AppData\\Local\\Programs\\Python\\Python310\\lib\\site-packages\\ipykernel\\kernelbase.py:1175\u001b[0m, in \u001b[0;36mKernel.raw_input\u001b[1;34m(self, prompt)\u001b[0m\n\u001b[0;32m   1171\u001b[0m \u001b[38;5;28;01mif\u001b[39;00m \u001b[38;5;129;01mnot\u001b[39;00m \u001b[38;5;28mself\u001b[39m\u001b[38;5;241m.\u001b[39m_allow_stdin:\n\u001b[0;32m   1172\u001b[0m     \u001b[38;5;28;01mraise\u001b[39;00m StdinNotImplementedError(\n\u001b[0;32m   1173\u001b[0m         \u001b[38;5;124m\"\u001b[39m\u001b[38;5;124mraw_input was called, but this frontend does not support input requests.\u001b[39m\u001b[38;5;124m\"\u001b[39m\n\u001b[0;32m   1174\u001b[0m     )\n\u001b[1;32m-> 1175\u001b[0m \u001b[38;5;28;01mreturn\u001b[39;00m \u001b[38;5;28;43mself\u001b[39;49m\u001b[38;5;241;43m.\u001b[39;49m\u001b[43m_input_request\u001b[49m\u001b[43m(\u001b[49m\n\u001b[0;32m   1176\u001b[0m \u001b[43m    \u001b[49m\u001b[38;5;28;43mstr\u001b[39;49m\u001b[43m(\u001b[49m\u001b[43mprompt\u001b[49m\u001b[43m)\u001b[49m\u001b[43m,\u001b[49m\n\u001b[0;32m   1177\u001b[0m \u001b[43m    \u001b[49m\u001b[38;5;28;43mself\u001b[39;49m\u001b[38;5;241;43m.\u001b[39;49m\u001b[43m_parent_ident\u001b[49m\u001b[43m[\u001b[49m\u001b[38;5;124;43m\"\u001b[39;49m\u001b[38;5;124;43mshell\u001b[39;49m\u001b[38;5;124;43m\"\u001b[39;49m\u001b[43m]\u001b[49m\u001b[43m,\u001b[49m\n\u001b[0;32m   1178\u001b[0m \u001b[43m    \u001b[49m\u001b[38;5;28;43mself\u001b[39;49m\u001b[38;5;241;43m.\u001b[39;49m\u001b[43mget_parent\u001b[49m\u001b[43m(\u001b[49m\u001b[38;5;124;43m\"\u001b[39;49m\u001b[38;5;124;43mshell\u001b[39;49m\u001b[38;5;124;43m\"\u001b[39;49m\u001b[43m)\u001b[49m\u001b[43m,\u001b[49m\n\u001b[0;32m   1179\u001b[0m \u001b[43m    \u001b[49m\u001b[43mpassword\u001b[49m\u001b[38;5;241;43m=\u001b[39;49m\u001b[38;5;28;43;01mFalse\u001b[39;49;00m\u001b[43m,\u001b[49m\n\u001b[0;32m   1180\u001b[0m \u001b[43m\u001b[49m\u001b[43m)\u001b[49m\n",
      "File \u001b[1;32m~\\AppData\\Local\\Programs\\Python\\Python310\\lib\\site-packages\\ipykernel\\kernelbase.py:1217\u001b[0m, in \u001b[0;36mKernel._input_request\u001b[1;34m(self, prompt, ident, parent, password)\u001b[0m\n\u001b[0;32m   1214\u001b[0m             \u001b[38;5;28;01mbreak\u001b[39;00m\n\u001b[0;32m   1215\u001b[0m \u001b[38;5;28;01mexcept\u001b[39;00m \u001b[38;5;167;01mKeyboardInterrupt\u001b[39;00m:\n\u001b[0;32m   1216\u001b[0m     \u001b[38;5;66;03m# re-raise KeyboardInterrupt, to truncate traceback\u001b[39;00m\n\u001b[1;32m-> 1217\u001b[0m     \u001b[38;5;28;01mraise\u001b[39;00m \u001b[38;5;167;01mKeyboardInterrupt\u001b[39;00m(\u001b[38;5;124m\"\u001b[39m\u001b[38;5;124mInterrupted by user\u001b[39m\u001b[38;5;124m\"\u001b[39m) \u001b[38;5;28;01mfrom\u001b[39;00m \u001b[38;5;28mNone\u001b[39m\n\u001b[0;32m   1218\u001b[0m \u001b[38;5;28;01mexcept\u001b[39;00m \u001b[38;5;167;01mException\u001b[39;00m:\n\u001b[0;32m   1219\u001b[0m     \u001b[38;5;28mself\u001b[39m\u001b[38;5;241m.\u001b[39mlog\u001b[38;5;241m.\u001b[39mwarning(\u001b[38;5;124m\"\u001b[39m\u001b[38;5;124mInvalid Message:\u001b[39m\u001b[38;5;124m\"\u001b[39m, exc_info\u001b[38;5;241m=\u001b[39m\u001b[38;5;28;01mTrue\u001b[39;00m)\n",
      "\u001b[1;31mKeyboardInterrupt\u001b[0m: Interrupted by user"
     ]
    }
   ],
   "source": [
    "elements = ['vinho', 'preço', 'comentário_do_sommelier', 'uva', 'país', 'região',\n",
    "       'classificação', 'vinícola', 'teor_alcoólico', 'temperatura_de_serviço',\n",
    "       'olfativo', 'visual', 'gustativo', 'harmonização']\n",
    "\n",
    "data = {}\n",
    "\n",
    "for element in elements:\n",
    "    while True:\n",
    "        value = input(f\"Enter value for '{element}': \")\n",
    "        if value:\n",
    "            data[element] = value\n",
    "            break\n"
   ]
  },
  {
   "cell_type": "code",
   "execution_count": 9,
   "id": "77705a05-3a38-40f3-bbb1-f8734fdb016e",
   "metadata": {
    "execution": {
     "iopub.execute_input": "2023-01-31T00:05:56.188739Z",
     "iopub.status.busy": "2023-01-31T00:05:56.188739Z",
     "iopub.status.idle": "2023-01-31T00:05:56.201742Z",
     "shell.execute_reply": "2023-01-31T00:05:56.200742Z",
     "shell.execute_reply.started": "2023-01-31T00:05:56.188739Z"
    },
    "tags": []
   },
   "outputs": [
    {
     "data": {
      "text/plain": [
       "{'vinho': 'Chilano',\n",
       " 'preço': '10',\n",
       " 'comentário_do_sommelier': 'Vinho delicia',\n",
       " 'uva': 'Rubi',\n",
       " 'país': 'Eua',\n",
       " 'região': 'Lisboa',\n",
       " 'classificação': 'Seco',\n",
       " 'vinícola': 'Goes',\n",
       " 'teor_alcoólico': '10.5',\n",
       " 'temperatura_de_serviço': '10',\n",
       " 'olfativo': 'cheiroso',\n",
       " 'visual': 'horrível',\n",
       " 'gustativo': 'delicia',\n",
       " 'harmonização': 'queijo'}"
      ]
     },
     "execution_count": 9,
     "metadata": {},
     "output_type": "execute_result"
    }
   ],
   "source": [
    "data"
   ]
  },
  {
   "cell_type": "code",
   "execution_count": 6,
   "id": "871612e1-3436-4ef3-bdae-7fbfbda4eac1",
   "metadata": {
    "execution": {
     "iopub.execute_input": "2023-01-31T00:00:19.023160Z",
     "iopub.status.busy": "2023-01-31T00:00:19.023160Z",
     "iopub.status.idle": "2023-01-31T00:00:19.041164Z",
     "shell.execute_reply": "2023-01-31T00:00:19.040163Z",
     "shell.execute_reply.started": "2023-01-31T00:00:19.023160Z"
    },
    "tags": []
   },
   "outputs": [],
   "source": [
    "new_wine = {}\n",
    "\n",
    "for i in inputs:\n",
    "    \n",
    "    input(i)\n",
    "    "
   ]
  }
 ],
 "metadata": {
  "kernelspec": {
   "display_name": "Python 3 (ipykernel)",
   "language": "python",
   "name": "python3"
  },
  "language_info": {
   "codemirror_mode": {
    "name": "ipython",
    "version": 3
   },
   "file_extension": ".py",
   "mimetype": "text/x-python",
   "name": "python",
   "nbconvert_exporter": "python",
   "pygments_lexer": "ipython3",
   "version": "3.10.9"
  }
 },
 "nbformat": 4,
 "nbformat_minor": 5
}
