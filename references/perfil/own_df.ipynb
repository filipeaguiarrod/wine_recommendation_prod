{
 "cells": [
  {
   "cell_type": "code",
   "execution_count": 19,
   "id": "faaa911c-75ef-4fac-b953-ed5523cbd033",
   "metadata": {
    "execution": {
     "iopub.execute_input": "2023-01-08T17:59:57.298677Z",
     "iopub.status.busy": "2023-01-08T17:59:57.297677Z",
     "iopub.status.idle": "2023-01-08T17:59:57.302678Z",
     "shell.execute_reply": "2023-01-08T17:59:57.301677Z",
     "shell.execute_reply.started": "2023-01-08T17:59:57.298677Z"
    },
    "tags": []
   },
   "outputs": [],
   "source": [
    "# Preciso criar um mecanismo de procura na base atual e dar um jeito do usuario saber se faz sentido o que ele achou, registrar o que acha e criar uma csv personalizado\n"
   ]
  },
  {
   "cell_type": "code",
   "execution_count": 11,
   "id": "e9065fe4-20a2-4540-a667-07cfa1b1603b",
   "metadata": {
    "execution": {
     "iopub.execute_input": "2023-01-22T00:31:01.971148Z",
     "iopub.status.busy": "2023-01-22T00:31:01.971148Z",
     "iopub.status.idle": "2023-01-22T00:31:01.981150Z",
     "shell.execute_reply": "2023-01-22T00:31:01.981150Z",
     "shell.execute_reply.started": "2023-01-22T00:31:01.971148Z"
    },
    "tags": []
   },
   "outputs": [],
   "source": [
    "import pandas as pd\n",
    "import os"
   ]
  },
  {
   "cell_type": "code",
   "execution_count": 15,
   "id": "544e9081-d26e-4a13-a74a-693654430c7a",
   "metadata": {
    "execution": {
     "iopub.execute_input": "2023-01-22T00:31:54.734050Z",
     "iopub.status.busy": "2023-01-22T00:31:54.733050Z",
     "iopub.status.idle": "2023-01-22T00:31:54.746045Z",
     "shell.execute_reply": "2023-01-22T00:31:54.745045Z",
     "shell.execute_reply.started": "2023-01-22T00:31:54.734050Z"
    },
    "tags": []
   },
   "outputs": [
    {
     "data": {
      "text/plain": [
       "'D:\\\\Data Scientist\\\\wine_recommendation\\\\perfil'"
      ]
     },
     "execution_count": 15,
     "metadata": {},
     "output_type": "execute_result"
    }
   ],
   "source": [
    "os.getcwd()"
   ]
  },
  {
   "cell_type": "code",
   "execution_count": 16,
   "id": "557cb3b5-4053-4b3f-ae6c-5d8f0c3abb71",
   "metadata": {
    "execution": {
     "iopub.execute_input": "2023-01-22T00:32:31.781965Z",
     "iopub.status.busy": "2023-01-22T00:32:31.780966Z",
     "iopub.status.idle": "2023-01-22T00:32:31.965105Z",
     "shell.execute_reply": "2023-01-22T00:32:31.965105Z",
     "shell.execute_reply.started": "2023-01-22T00:32:31.781965Z"
    },
    "tags": []
   },
   "outputs": [],
   "source": [
    "df = pd.read_csv('D:\\\\Data Scientist\\\\wine_recommendation\\\\elt\\\\super_wine_set.csv')"
   ]
  },
  {
   "cell_type": "code",
   "execution_count": 26,
   "id": "01ca83ae-54a0-412a-9a5d-7faf854a2d9e",
   "metadata": {
    "execution": {
     "iopub.execute_input": "2023-01-22T00:36:15.087839Z",
     "iopub.status.busy": "2023-01-22T00:36:15.087839Z",
     "iopub.status.idle": "2023-01-22T00:36:15.101842Z",
     "shell.execute_reply": "2023-01-22T00:36:15.101842Z",
     "shell.execute_reply.started": "2023-01-22T00:36:15.087839Z"
    },
    "tags": []
   },
   "outputs": [
    {
     "data": {
      "text/plain": [
       "Tinto               779\n",
       "Seco                549\n",
       "Branco              226\n",
       "Meio Seco           139\n",
       "Espumante            87\n",
       "Rosé                 69\n",
       "Brut                 29\n",
       "Espumante Branco     19\n",
       "Suave/Doce           19\n",
       "Licoroso             11\n",
       "Brancos               6\n",
       "Espumante Rosé        5\n",
       "Fortificado           5\n",
       "Extra Brut            5\n",
       "Frisante Branco       4\n",
       "Tinto                 3\n",
       " Branco               2\n",
       "Branco Doce           2\n",
       "Espumantes            2\n",
       "Tintos                2\n",
       "Champagne             2\n",
       "tinto                 1\n",
       "Branco                1\n",
       "Vinho Verde           1\n",
       "Name: classificação, dtype: int64"
      ]
     },
     "execution_count": 26,
     "metadata": {},
     "output_type": "execute_result"
    }
   ],
   "source": [
    "df.classificação.value_counts()"
   ]
  },
  {
   "cell_type": "code",
   "execution_count": 22,
   "id": "8c8f6c97-858a-4db0-8cef-c4cfddea67eb",
   "metadata": {
    "execution": {
     "iopub.execute_input": "2023-01-22T00:34:32.958627Z",
     "iopub.status.busy": "2023-01-22T00:34:32.958627Z",
     "iopub.status.idle": "2023-01-22T00:34:32.969472Z",
     "shell.execute_reply": "2023-01-22T00:34:32.969472Z",
     "shell.execute_reply.started": "2023-01-22T00:34:32.958627Z"
    },
    "tags": []
   },
   "outputs": [
    {
     "data": {
      "text/html": [
       "<div>\n",
       "<style scoped>\n",
       "    .dataframe tbody tr th:only-of-type {\n",
       "        vertical-align: middle;\n",
       "    }\n",
       "\n",
       "    .dataframe tbody tr th {\n",
       "        vertical-align: top;\n",
       "    }\n",
       "\n",
       "    .dataframe thead th {\n",
       "        text-align: right;\n",
       "    }\n",
       "</style>\n",
       "<table border=\"1\" class=\"dataframe\">\n",
       "  <thead>\n",
       "    <tr style=\"text-align: right;\">\n",
       "      <th></th>\n",
       "      <th>vinho</th>\n",
       "    </tr>\n",
       "  </thead>\n",
       "  <tbody>\n",
       "  </tbody>\n",
       "</table>\n",
       "</div>"
      ],
      "text/plain": [
       "Empty DataFrame\n",
       "Columns: [vinho]\n",
       "Index: []"
      ]
     },
     "execution_count": 22,
     "metadata": {},
     "output_type": "execute_result"
    }
   ],
   "source": [
    "df.loc[df['vinho'].str.contains('moscato',na=False),['vinho']]"
   ]
  },
  {
   "cell_type": "code",
   "execution_count": 33,
   "id": "2e096e4a-ded5-4db1-bf7b-8328cb0e5279",
   "metadata": {
    "execution": {
     "iopub.execute_input": "2023-01-17T23:32:20.268247Z",
     "iopub.status.busy": "2023-01-17T23:32:20.268247Z",
     "iopub.status.idle": "2023-01-17T23:32:20.277241Z",
     "shell.execute_reply": "2023-01-17T23:32:20.277241Z",
     "shell.execute_reply.started": "2023-01-17T23:32:20.268247Z"
    },
    "tags": []
   },
   "outputs": [],
   "source": [
    "# 1 - Gostei\n",
    "# 0 - aceitavel\n",
    "# -1 - não gostei\n",
    "\n",
    "pd.DataFrame({'name':['Don Simon Seleccion Tempranillo','Santa Alicia Carménère Valle Central 2020','Vinho Português Tinto Periquita Reserva Garrafa 1,5 L','Vinho Mateus Rose 750ml','Vinho Frisante Salton Lunae Rose 750ml','Vinho Espumante Francês POL CLÉMENT Demi Sec Garrafa 750ml','Vinho Português Tinto Periquita Garrafa 1,5 L'],\n",
    "            'evaluation':[-1,0,1,1,1,1,1]  \n",
    "            }).to_csv('perfil_aguiar.csv',index=False)"
   ]
  }
 ],
 "metadata": {
  "kernelspec": {
   "display_name": "Python 3 (ipykernel)",
   "language": "python",
   "name": "python3"
  },
  "language_info": {
   "codemirror_mode": {
    "name": "ipython",
    "version": 3
   },
   "file_extension": ".py",
   "mimetype": "text/x-python",
   "name": "python",
   "nbconvert_exporter": "python",
   "pygments_lexer": "ipython3",
   "version": "3.10.9"
  }
 },
 "nbformat": 4,
 "nbformat_minor": 5
}
